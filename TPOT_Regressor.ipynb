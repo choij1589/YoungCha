{
 "cells": [
  {
   "cell_type": "markdown",
   "metadata": {},
   "source": [
    "## 2. Data Cleansing and Data Loading "
   ]
  },
  {
   "cell_type": "markdown",
   "metadata": {},
   "source": [
    "After we found additional data, we made 'Fulldata_are(daily).csv' by combining all data.\n",
    "\n",
    "Our data has some missing values (especiallly about fish price), however it is quite clean, barely had to check outliers. \n",
    "We just check whether the value of AQI index is more than 500, or the value of fish price is more than 4000. <p>\n",
    "Then we use linear interpolation by index because it is a time-series data. "
   ]
  },
  {
   "cell_type": "code",
   "execution_count": 18,
   "metadata": {},
   "outputs": [],
   "source": [
    "import numpy as np\n",
    "import pandas as pd\n",
    "from itertools import product\n",
    "from sklearn.model_selection import train_test_split\n",
    "from tpot import TPOTRegressor\n",
    "\n",
    "\n",
    "# load data\n",
    "sample = pd.read_csv(\"./Fulldata_air(daily).csv\", index_col=0)\n",
    "#sample.fillna(value=-1, inplace=True)\n",
    "\n",
    "S_AQIset=['PM10_AQI_0', 'PM2_5_AQI_0','PM10_AQI_1', 'PM2_5_AQI_1','PM10_AQI_2', 'PM2_5_AQI_2','PM10_AQI_3', 'PM2_5_AQI_3','PM10_AQI_4', 'PM2_5_AQI_4','PM10_AQI_5', 'PM2_5_AQI_5','PM10_AQI_6', 'PM2_5_AQI_6','PM10_AQI_7', 'PM2_5_AQI_7','PM10_AQI_8', 'PM2_5_AQI_8','PM10_AQI_9', 'PM2_5_AQI_9','PM10_AQI_10', 'PM2_5_AQI_10','PM10_AQI_11', 'PM2_5_AQI_11','PM10_AQI_12', 'PM2_5_AQI_12','PM10_AQI_13', 'PM2_5_AQI_13','PM10_AQI_14', 'PM2_5_AQI_14','PM10_AQI_15', 'PM2_5_AQI_15','PM10_AQI_16', 'PM2_5_AQI_16','PM10_AQI_17', 'PM2_5_AQI_17','PM10_AQI_18', 'PM2_5_AQI_18','PM10_AQI_19', 'PM2_5_AQI_19','PM10_AQI_20', 'PM2_5_AQI_20','PM10_AQI_21', 'PM2_5_AQI_21','PM10_AQI_22', 'PM2_5_AQI_22','PM10_AQI_23', 'PM2_5_AQI_23','PM10_AQI_24', 'PM2_5_AQI_24','PM10_AQI_25', 'PM2_5_AQI_25']\n",
    "B_AQIset=['PM10_DAY_AVE','PM2_5_DAY_AVE']\n",
    "# check outliers -> np.nan\n",
    "# fill missing data: -1 -> np.nan\n",
    "for index, feature in product(sample.index, sample.columns):\n",
    "    data = sample.loc[index, feature]\n",
    "    \n",
    "    #Outlier : Seoul AQI > 500 or Beijing AQI > 500 or FISH_AVE_PR2ICE_DAY > 4000\n",
    "    if feature in S_AQIset:\n",
    "        if data > 500 :  \n",
    "            sample.loc[index, feature] = np.nan\n",
    "            feature1=feature.replace(\"AQI\", \"CONC\");\n",
    "            sample.loc[index, feature1] = np.nan\n",
    "    if feature in B_AQIset: \n",
    "        if data > 500 :  \n",
    "            sample.loc[index, feature] = np.nan\n",
    "    if feature=='FISH_AVE_PRICE_DAY':\n",
    "        if data > 4000 : \n",
    "            sample.loc[index, 'FISH_TOT_PRICE_DAY'] = np.nan\n",
    "            sample.loc[index, 'FISH_TOT_NUM_DAY'] = np.nan\n",
    "            sample.loc[index, 'FISH_AVE_PRICE_DAY'] = np.nan\n",
    "            \n",
    "    # missing data \n",
    "    if data == -1:\n",
    "        sample.loc[index, feature] = np.nan\n",
    "        \n",
    "# np.nan-> linear interpolation by index\n",
    "sample.interpolate(method='linear', axis=0, inplace=True, limit_direction=\"forward\")\n",
    "sample = sample.dropna()"
   ]
  },
  {
   "cell_type": "code",
   "execution_count": 20,
   "metadata": {},
   "outputs": [
    {
     "data": {
      "text/html": [
       "<div>\n",
       "<style scoped>\n",
       "    .dataframe tbody tr th:only-of-type {\n",
       "        vertical-align: middle;\n",
       "    }\n",
       "\n",
       "    .dataframe tbody tr th {\n",
       "        vertical-align: top;\n",
       "    }\n",
       "\n",
       "    .dataframe thead th {\n",
       "        text-align: right;\n",
       "    }\n",
       "</style>\n",
       "<table border=\"1\" class=\"dataframe\">\n",
       "  <thead>\n",
       "    <tr style=\"text-align: right;\">\n",
       "      <th></th>\n",
       "      <th>PM10_CONC_0</th>\n",
       "      <th>PM2_5_CONC_0</th>\n",
       "      <th>O3_0</th>\n",
       "      <th>NO2_0</th>\n",
       "      <th>CO_0</th>\n",
       "      <th>SO2_0</th>\n",
       "      <th>PM10_AQI_0</th>\n",
       "      <th>PM2_5_AQI_0</th>\n",
       "      <th>PM10_CONC_1</th>\n",
       "      <th>PM2_5_CONC_1</th>\n",
       "      <th>...</th>\n",
       "      <th>PM2_5_AQI_25</th>\n",
       "      <th>PM10_DAY_AVE</th>\n",
       "      <th>PM2_5_DAY_AVE</th>\n",
       "      <th>O3_DAY_AVE</th>\n",
       "      <th>NO2_DAY_AVE</th>\n",
       "      <th>CO_DAY_AVE</th>\n",
       "      <th>SO2_DAY_AVE</th>\n",
       "      <th>FISH_TOT_PRICE_DAY</th>\n",
       "      <th>FISH_TOT_NUM_DAY</th>\n",
       "      <th>FISH_AVE_PRICE_DAY</th>\n",
       "    </tr>\n",
       "  </thead>\n",
       "  <tbody>\n",
       "    <tr>\n",
       "      <th>count</th>\n",
       "      <td>1581.000000</td>\n",
       "      <td>1581.000000</td>\n",
       "      <td>1581.000000</td>\n",
       "      <td>1581.000000</td>\n",
       "      <td>1581.000000</td>\n",
       "      <td>1581.000000</td>\n",
       "      <td>1581.000000</td>\n",
       "      <td>1581.000000</td>\n",
       "      <td>1581.000000</td>\n",
       "      <td>1581.000000</td>\n",
       "      <td>...</td>\n",
       "      <td>1581.000000</td>\n",
       "      <td>1581.000000</td>\n",
       "      <td>1581.000000</td>\n",
       "      <td>1581.000000</td>\n",
       "      <td>1581.000000</td>\n",
       "      <td>1581.000000</td>\n",
       "      <td>1581.000000</td>\n",
       "      <td>1581.000000</td>\n",
       "      <td>1581.000000</td>\n",
       "      <td>1581.000000</td>\n",
       "    </tr>\n",
       "    <tr>\n",
       "      <th>mean</th>\n",
       "      <td>46.130482</td>\n",
       "      <td>24.825111</td>\n",
       "      <td>0.023446</td>\n",
       "      <td>0.031561</td>\n",
       "      <td>0.525079</td>\n",
       "      <td>0.005014</td>\n",
       "      <td>39.334783</td>\n",
       "      <td>76.039716</td>\n",
       "      <td>45.064542</td>\n",
       "      <td>25.361612</td>\n",
       "      <td>...</td>\n",
       "      <td>73.156981</td>\n",
       "      <td>74.978178</td>\n",
       "      <td>135.157179</td>\n",
       "      <td>44.285394</td>\n",
       "      <td>24.515444</td>\n",
       "      <td>10.517420</td>\n",
       "      <td>6.976940</td>\n",
       "      <td>184040.196078</td>\n",
       "      <td>194.857685</td>\n",
       "      <td>1026.175894</td>\n",
       "    </tr>\n",
       "    <tr>\n",
       "      <th>std</th>\n",
       "      <td>28.026675</td>\n",
       "      <td>13.311916</td>\n",
       "      <td>0.012161</td>\n",
       "      <td>0.012034</td>\n",
       "      <td>0.175032</td>\n",
       "      <td>0.002715</td>\n",
       "      <td>16.764644</td>\n",
       "      <td>28.435982</td>\n",
       "      <td>30.098863</td>\n",
       "      <td>14.240605</td>\n",
       "      <td>...</td>\n",
       "      <td>30.902252</td>\n",
       "      <td>51.170444</td>\n",
       "      <td>72.931292</td>\n",
       "      <td>33.771138</td>\n",
       "      <td>12.419908</td>\n",
       "      <td>9.240141</td>\n",
       "      <td>9.050478</td>\n",
       "      <td>107442.156515</td>\n",
       "      <td>113.590850</td>\n",
       "      <td>467.821840</td>\n",
       "    </tr>\n",
       "    <tr>\n",
       "      <th>min</th>\n",
       "      <td>4.750000</td>\n",
       "      <td>3.541667</td>\n",
       "      <td>-0.029708</td>\n",
       "      <td>-0.024792</td>\n",
       "      <td>0.208333</td>\n",
       "      <td>-0.038042</td>\n",
       "      <td>4.666667</td>\n",
       "      <td>15.166667</td>\n",
       "      <td>4.208333</td>\n",
       "      <td>2.125000</td>\n",
       "      <td>...</td>\n",
       "      <td>1.791667</td>\n",
       "      <td>5.000000</td>\n",
       "      <td>18.000000</td>\n",
       "      <td>1.000000</td>\n",
       "      <td>2.000000</td>\n",
       "      <td>1.000000</td>\n",
       "      <td>0.916667</td>\n",
       "      <td>5000.000000</td>\n",
       "      <td>16.000000</td>\n",
       "      <td>166.666667</td>\n",
       "    </tr>\n",
       "    <tr>\n",
       "      <th>25%</th>\n",
       "      <td>29.833333</td>\n",
       "      <td>15.750000</td>\n",
       "      <td>0.014583</td>\n",
       "      <td>0.022625</td>\n",
       "      <td>0.400000</td>\n",
       "      <td>0.004167</td>\n",
       "      <td>27.541667</td>\n",
       "      <td>57.625000</td>\n",
       "      <td>28.458333</td>\n",
       "      <td>15.375000</td>\n",
       "      <td>...</td>\n",
       "      <td>52.458333</td>\n",
       "      <td>42.000000</td>\n",
       "      <td>81.000000</td>\n",
       "      <td>21.000000</td>\n",
       "      <td>16.000000</td>\n",
       "      <td>5.000000</td>\n",
       "      <td>2.000000</td>\n",
       "      <td>105000.000000</td>\n",
       "      <td>117.000000</td>\n",
       "      <td>725.008210</td>\n",
       "    </tr>\n",
       "    <tr>\n",
       "      <th>50%</th>\n",
       "      <td>41.125000</td>\n",
       "      <td>22.166667</td>\n",
       "      <td>0.022583</td>\n",
       "      <td>0.029917</td>\n",
       "      <td>0.483333</td>\n",
       "      <td>0.004833</td>\n",
       "      <td>37.750000</td>\n",
       "      <td>72.125000</td>\n",
       "      <td>40.458333</td>\n",
       "      <td>22.958333</td>\n",
       "      <td>...</td>\n",
       "      <td>70.958333</td>\n",
       "      <td>65.000000</td>\n",
       "      <td>129.000000</td>\n",
       "      <td>33.000000</td>\n",
       "      <td>22.000000</td>\n",
       "      <td>8.000000</td>\n",
       "      <td>4.000000</td>\n",
       "      <td>164200.000000</td>\n",
       "      <td>178.000000</td>\n",
       "      <td>912.666667</td>\n",
       "    </tr>\n",
       "    <tr>\n",
       "      <th>75%</th>\n",
       "      <td>56.833333</td>\n",
       "      <td>31.041667</td>\n",
       "      <td>0.031542</td>\n",
       "      <td>0.039250</td>\n",
       "      <td>0.608333</td>\n",
       "      <td>0.005750</td>\n",
       "      <td>49.916667</td>\n",
       "      <td>91.208333</td>\n",
       "      <td>55.375000</td>\n",
       "      <td>32.291667</td>\n",
       "      <td>...</td>\n",
       "      <td>92.000000</td>\n",
       "      <td>92.000000</td>\n",
       "      <td>170.000000</td>\n",
       "      <td>61.000000</td>\n",
       "      <td>31.000000</td>\n",
       "      <td>13.000000</td>\n",
       "      <td>8.000000</td>\n",
       "      <td>247350.000000</td>\n",
       "      <td>248.000000</td>\n",
       "      <td>1204.810766</td>\n",
       "    </tr>\n",
       "    <tr>\n",
       "      <th>max</th>\n",
       "      <td>596.791667</td>\n",
       "      <td>99.250000</td>\n",
       "      <td>0.072208</td>\n",
       "      <td>0.080583</td>\n",
       "      <td>1.300000</td>\n",
       "      <td>0.013500</td>\n",
       "      <td>122.500000</td>\n",
       "      <td>173.666667</td>\n",
       "      <td>743.166667</td>\n",
       "      <td>92.916667</td>\n",
       "      <td>...</td>\n",
       "      <td>172.958333</td>\n",
       "      <td>472.000000</td>\n",
       "      <td>488.000000</td>\n",
       "      <td>175.000000</td>\n",
       "      <td>90.000000</td>\n",
       "      <td>78.000000</td>\n",
       "      <td>71.000000</td>\n",
       "      <td>667800.000000</td>\n",
       "      <td>847.000000</td>\n",
       "      <td>3763.541667</td>\n",
       "    </tr>\n",
       "  </tbody>\n",
       "</table>\n",
       "<p>8 rows × 217 columns</p>\n",
       "</div>"
      ],
      "text/plain": [
       "       PM10_CONC_0  PM2_5_CONC_0         O3_0        NO2_0         CO_0  \\\n",
       "count  1581.000000   1581.000000  1581.000000  1581.000000  1581.000000   \n",
       "mean     46.130482     24.825111     0.023446     0.031561     0.525079   \n",
       "std      28.026675     13.311916     0.012161     0.012034     0.175032   \n",
       "min       4.750000      3.541667    -0.029708    -0.024792     0.208333   \n",
       "25%      29.833333     15.750000     0.014583     0.022625     0.400000   \n",
       "50%      41.125000     22.166667     0.022583     0.029917     0.483333   \n",
       "75%      56.833333     31.041667     0.031542     0.039250     0.608333   \n",
       "max     596.791667     99.250000     0.072208     0.080583     1.300000   \n",
       "\n",
       "             SO2_0   PM10_AQI_0  PM2_5_AQI_0  PM10_CONC_1  PM2_5_CONC_1  ...  \\\n",
       "count  1581.000000  1581.000000  1581.000000  1581.000000   1581.000000  ...   \n",
       "mean      0.005014    39.334783    76.039716    45.064542     25.361612  ...   \n",
       "std       0.002715    16.764644    28.435982    30.098863     14.240605  ...   \n",
       "min      -0.038042     4.666667    15.166667     4.208333      2.125000  ...   \n",
       "25%       0.004167    27.541667    57.625000    28.458333     15.375000  ...   \n",
       "50%       0.004833    37.750000    72.125000    40.458333     22.958333  ...   \n",
       "75%       0.005750    49.916667    91.208333    55.375000     32.291667  ...   \n",
       "max       0.013500   122.500000   173.666667   743.166667     92.916667  ...   \n",
       "\n",
       "       PM2_5_AQI_25  PM10_DAY_AVE  PM2_5_DAY_AVE   O3_DAY_AVE  NO2_DAY_AVE  \\\n",
       "count   1581.000000   1581.000000    1581.000000  1581.000000  1581.000000   \n",
       "mean      73.156981     74.978178     135.157179    44.285394    24.515444   \n",
       "std       30.902252     51.170444      72.931292    33.771138    12.419908   \n",
       "min        1.791667      5.000000      18.000000     1.000000     2.000000   \n",
       "25%       52.458333     42.000000      81.000000    21.000000    16.000000   \n",
       "50%       70.958333     65.000000     129.000000    33.000000    22.000000   \n",
       "75%       92.000000     92.000000     170.000000    61.000000    31.000000   \n",
       "max      172.958333    472.000000     488.000000   175.000000    90.000000   \n",
       "\n",
       "        CO_DAY_AVE  SO2_DAY_AVE  FISH_TOT_PRICE_DAY  FISH_TOT_NUM_DAY  \\\n",
       "count  1581.000000  1581.000000         1581.000000       1581.000000   \n",
       "mean     10.517420     6.976940       184040.196078        194.857685   \n",
       "std       9.240141     9.050478       107442.156515        113.590850   \n",
       "min       1.000000     0.916667         5000.000000         16.000000   \n",
       "25%       5.000000     2.000000       105000.000000        117.000000   \n",
       "50%       8.000000     4.000000       164200.000000        178.000000   \n",
       "75%      13.000000     8.000000       247350.000000        248.000000   \n",
       "max      78.000000    71.000000       667800.000000        847.000000   \n",
       "\n",
       "       FISH_AVE_PRICE_DAY  \n",
       "count         1581.000000  \n",
       "mean          1026.175894  \n",
       "std            467.821840  \n",
       "min            166.666667  \n",
       "25%            725.008210  \n",
       "50%            912.666667  \n",
       "75%           1204.810766  \n",
       "max           3763.541667  \n",
       "\n",
       "[8 rows x 217 columns]"
      ]
     },
     "execution_count": 20,
     "metadata": {},
     "output_type": "execute_result"
    }
   ],
   "source": [
    "sample.describe()"
   ]
  },
  {
   "cell_type": "markdown",
   "metadata": {},
   "source": [
    "## 3. Algorithm Implementation "
   ]
  },
  {
   "cell_type": "markdown",
   "metadata": {},
   "source": [
    "We use TPOT with 3 different configurations, the basic TPOT regressor, TPOT regressor_light, and TPOT regressor_sparse<p>\n",
    "We will explain about this algorithm in detail in our report, and you can check how it is implemented by the below part. "
   ]
  },
  {
   "cell_type": "markdown",
   "metadata": {},
   "source": [
    "## 4. Evaluate Model"
   ]
  },
  {
   "cell_type": "markdown",
   "metadata": {},
   "source": [
    "Our models predict the next day's average PM10_AQI and the average of PM10_AQI after 3 days in seoul. <p>\n",
    "We split the data into training and test set. 80% of data was used for training.<p>\n",
    "We don't have to make validation set, because tpot algorithm contains the cross validation process. \n",
    "    (default : 5-fold CV)"
   ]
  },
  {
   "cell_type": "code",
   "execution_count": 40,
   "metadata": {},
   "outputs": [],
   "source": [
    "# target value\n",
    "target = \"PM10_AQI_0\"\n",
    "\n",
    "# targets(=tomorrow's AQI), targets3 (=3 days after AQI)\n",
    "targets = sample[target].copy()\n",
    "targets = targets.shift(-1)\n",
    "targets.dropna(inplace=True) \n",
    "targets3 = targets.shift(-2)\n",
    "targets3.dropna(inplace=True) \n",
    "\n",
    "# drop the last row of the features\n",
    "features = sample.copy()\n",
    "features = features.iloc[:-1, :].copy()\n",
    "features3 = features.iloc[:-2, :].copy()\n",
    "\n",
    "targets = targets.to_numpy()\n",
    "features = features.to_numpy()\n",
    "targets3 = targets3.to_numpy()\n",
    "features3 = features3.to_numpy()\n",
    "\n",
    "# split into train and test set\n",
    "X_train, X_test, y_train, y_test = train_test_split(features.astype(np.float64), targets.astype(np.float64), train_size=0.8, test_size=0.2, shuffle=False)\n",
    "X_train3, X_test3, y_train3, y_test3 = train_test_split(features3.astype(np.float64), targets3.astype(np.float64), train_size=0.8, test_size=0.2, shuffle=False)"
   ]
  },
  {
   "cell_type": "code",
   "execution_count": 47,
   "metadata": {},
   "outputs": [
    {
     "name": "stdout",
     "output_type": "stream",
     "text": [
      "Average difference between today AQI and tomorrow AQI:  10.626265822603798\n",
      "Average difference between today AQI and 3 days after AQI :  15.456062526276298\n"
     ]
    }
   ],
   "source": [
    "# Model Accuracy Standard \n",
    "\n",
    "from sklearn.metrics import mean_absolute_error\n",
    "\n",
    "y_today = sample[target].copy()\n",
    "y_tomorrow = y_today.shift(-1)\n",
    "y_3days = y_today.shift(-3)\n",
    "\n",
    "y_today= y_today.iloc[:-1]\n",
    "y_tomorrow.dropna(inplace=True) \n",
    "mae = mean_absolute_error (y_today, y_tomorrow)\n",
    "print(\"Average difference between today AQI and tomorrow AQI: \", mae)\n",
    "\n",
    "y_today= y_today.iloc[:-2]\n",
    "y_3days.dropna(inplace=True)\n",
    "mae = mean_absolute_error (y_today, y_3days)\n",
    "print(\"Average difference between today AQI and 3 days after AQI : \", mae)"
   ]
  },
  {
   "cell_type": "markdown",
   "metadata": {},
   "source": [
    "### 4-1. Tpot Regressor "
   ]
  },
  {
   "cell_type": "markdown",
   "metadata": {},
   "source": [
    "#### model for tomorrow "
   ]
  },
  {
   "cell_type": "code",
   "execution_count": 39,
   "metadata": {},
   "outputs": [
    {
     "data": {
      "application/vnd.jupyter.widget-view+json": {
       "model_id": "",
       "version_major": 2,
       "version_minor": 0
      },
      "text/plain": [
       "HBox(children=(HTML(value='Optimization Progress'), FloatProgress(value=0.0, max=300.0), HTML(value='')))"
      ]
     },
     "metadata": {},
     "output_type": "display_data"
    },
    {
     "name": "stdout",
     "output_type": "stream",
     "text": [
      "\n",
      "Generation 1 - Current best internal CV score: -9.555932888144216\n",
      "\n",
      "Generation 2 - Current best internal CV score: -9.503105434894564\n",
      "\n",
      "Generation 3 - Current best internal CV score: -9.42252111141496\n",
      "\n",
      "Generation 4 - Current best internal CV score: -9.415715981058668\n",
      "\n",
      "Generation 5 - Current best internal CV score: -9.415715981058668\n",
      "\n",
      "Best pipeline: RandomForestRegressor(ElasticNetCV(MaxAbsScaler(input_matrix), l1_ratio=0.8, tol=0.01), bootstrap=True, max_features=0.4, min_samples_leaf=16, min_samples_split=14, n_estimators=100)\n",
      "neg MAE of TPOT Regressor :  -8.374853723205113\n"
     ]
    }
   ],
   "source": [
    "tpot = TPOTRegressor(generations=5, population_size=50, verbosity=2, scoring='neg_mean_absolute_error', random_state=42)\n",
    "tpot.fit(X_train, y_train)\n",
    "tpot.export('tpot_seoul_PM10_AQI.py')\n",
    "print(\"neg MAE of TPOT Regressor : \",tpot.score(X_test, y_test))"
   ]
  },
  {
   "cell_type": "markdown",
   "metadata": {},
   "source": [
    "->>> MAE is decreased to 8.37 from 10.63"
   ]
  },
  {
   "cell_type": "markdown",
   "metadata": {},
   "source": [
    "#### model for after 3 days"
   ]
  },
  {
   "cell_type": "code",
   "execution_count": 48,
   "metadata": {},
   "outputs": [
    {
     "data": {
      "application/vnd.jupyter.widget-view+json": {
       "model_id": "",
       "version_major": 2,
       "version_minor": 0
      },
      "text/plain": [
       "HBox(children=(HTML(value='Optimization Progress'), FloatProgress(value=0.0, max=300.0), HTML(value='')))"
      ]
     },
     "metadata": {},
     "output_type": "display_data"
    },
    {
     "name": "stdout",
     "output_type": "stream",
     "text": [
      "\n",
      "Generation 1 - Current best internal CV score: -12.370880795271477\n",
      "\n",
      "Generation 2 - Current best internal CV score: -12.328013921282727\n",
      "\n",
      "Generation 3 - Current best internal CV score: -12.229046275764976\n",
      "\n",
      "Generation 4 - Current best internal CV score: -12.223733341820957\n",
      "\n",
      "Generation 5 - Current best internal CV score: -12.223733341820957\n",
      "\n",
      "Best pipeline: LinearSVR(LassoLarsCV(input_matrix, normalize=False), C=10.0, dual=False, epsilon=0.0001, loss=squared_epsilon_insensitive, tol=1e-05)\n",
      "neg MAE of TPOT Regressor :  -11.87710435255352\n"
     ]
    }
   ],
   "source": [
    "tpot3 = TPOTRegressor(generations=5, population_size=50, verbosity=2, scoring='neg_mean_absolute_error', random_state=42)\n",
    "tpot3.fit(X_train3, y_train3)\n",
    "tpot3.export('tpot_seoul_PM10_AQI_3days.py')\n",
    "print(\"neg MAE of TPOT Regressor : \",tpot3.score(X_test3, y_test3))"
   ]
  },
  {
   "cell_type": "markdown",
   "metadata": {},
   "source": [
    "->>> MAE is decreased to 15.46 from 11.88"
   ]
  },
  {
   "cell_type": "markdown",
   "metadata": {},
   "source": [
    "### 4.2 Tpot Regressor light"
   ]
  },
  {
   "cell_type": "markdown",
   "metadata": {},
   "source": [
    "#### model for tomorrow"
   ]
  },
  {
   "cell_type": "code",
   "execution_count": 50,
   "metadata": {},
   "outputs": [
    {
     "data": {
      "application/vnd.jupyter.widget-view+json": {
       "model_id": "",
       "version_major": 2,
       "version_minor": 0
      },
      "text/plain": [
       "HBox(children=(HTML(value='Optimization Progress'), FloatProgress(value=0.0, max=300.0), HTML(value='')))"
      ]
     },
     "metadata": {},
     "output_type": "display_data"
    },
    {
     "name": "stdout",
     "output_type": "stream",
     "text": [
      "\n",
      "Generation 1 - Current best internal CV score: -9.71911043158689\n",
      "\n",
      "Generation 2 - Current best internal CV score: -9.641007047471618\n",
      "\n",
      "Generation 3 - Current best internal CV score: -9.492929172851095\n",
      "\n",
      "Generation 4 - Current best internal CV score: -9.492929172851095\n",
      "\n",
      "Generation 5 - Current best internal CV score: -9.492929172851095\n",
      "\n",
      "Best pipeline: LassoLarsCV(SelectFwe(input_matrix, alpha=0.007), normalize=True)\n",
      "neg MAE of TPOT Regressor :  -9.19177756981145\n"
     ]
    }
   ],
   "source": [
    "tpotl = TPOTRegressor(generations=5, population_size=50, verbosity=2, scoring='neg_mean_absolute_error', random_state=42,config_dict=\"TPOT light\")\n",
    "tpotl.fit(X_train, y_train)\n",
    "tpotl.export('tpot_light_seoul_PM10_AQI.py')\n",
    "print(\"neg MAE of TPOT Regressor : \",tpotl.score(X_test, y_test))"
   ]
  },
  {
   "cell_type": "markdown",
   "metadata": {},
   "source": [
    "->>> MAE is decreased to 9.19 from 10.63 (Tpot Regressor : 8.37)"
   ]
  },
  {
   "cell_type": "markdown",
   "metadata": {},
   "source": [
    "### 4.3 Tpot Regressor sparse"
   ]
  },
  {
   "cell_type": "markdown",
   "metadata": {},
   "source": [
    "#### model for tomorrow"
   ]
  },
  {
   "cell_type": "code",
   "execution_count": 51,
   "metadata": {},
   "outputs": [
    {
     "data": {
      "application/vnd.jupyter.widget-view+json": {
       "model_id": "",
       "version_major": 2,
       "version_minor": 0
      },
      "text/plain": [
       "HBox(children=(HTML(value='Optimization Progress'), FloatProgress(value=0.0, max=300.0), HTML(value='')))"
      ]
     },
     "metadata": {},
     "output_type": "display_data"
    },
    {
     "name": "stdout",
     "output_type": "stream",
     "text": [
      "\n",
      "Generation 1 - Current best internal CV score: -9.505466770552744\n",
      "\n",
      "Generation 2 - Current best internal CV score: -9.501146796890781\n",
      "\n",
      "Generation 3 - Current best internal CV score: -9.448000868128494\n",
      "\n",
      "Generation 4 - Current best internal CV score: -9.448000868128494\n",
      "\n",
      "Generation 5 - Current best internal CV score: -9.42190925273874\n",
      "\n",
      "Best pipeline: RandomForestRegressor(LinearSVR(RidgeCV(input_matrix), C=0.0001, dual=False, epsilon=0.001, loss=squared_epsilon_insensitive, tol=0.01), bootstrap=False, max_features=0.1, min_samples_leaf=8, min_samples_split=18, n_estimators=100)\n",
      "neg MAE of TPOT Regressor :  -8.914622614897384\n"
     ]
    }
   ],
   "source": [
    "tpots = TPOTRegressor(generations=5, population_size=50, verbosity=2, scoring='neg_mean_absolute_error', random_state=42,config_dict=\"TPOT sparse\")\n",
    "tpots.fit(X_train, y_train)\n",
    "tpots.export('tpot_sparse_seoul_PM10_AQI.py')\n",
    "print(\"neg MAE of TPOT Regressor : \",tpots.score(X_test, y_test))"
   ]
  },
  {
   "cell_type": "markdown",
   "metadata": {},
   "source": [
    "->>> MAE is decreased to 8.91 from 10.63"
   ]
  },
  {
   "cell_type": "markdown",
   "metadata": {},
   "source": [
    "\n",
    "_____________________________\n",
    "\n",
    "## Additional : Without Beijing Data "
   ]
  },
  {
   "cell_type": "code",
   "execution_count": null,
   "metadata": {},
   "outputs": [],
   "source": [
    "# drop the last row of the features\n",
    "features_notB = sample.drop(['PM10_DAY_AVE','PM2_5_DAY_AVE','O3_DAY_AVE','NO2_DAY_AVE','CO_DAY_AVE','SO2_DAY_AVE'], axis=1).copy()\n",
    "features_notB = features_notB .iloc[:-1, :].copy()\n",
    "features3_notB = features_notB.iloc[:-2, :].copy()\n",
    "\n",
    "features_notB = features_notB.to_numpy()\n",
    "features3_notB = features3_notB.to_numpy()\n",
    "\n",
    "# split into train and test set\n",
    "X_train_notB, X_test_notB, y_train, y_test = train_test_split(features_notB.astype(np.float64), targets.astype(np.float64), train_size=0.8, test_size=0.2, shuffle=False)\n",
    "X_train3_notB, X_test3_notB, y_train3, y_test3 = train_test_split(features3_notB.astype(np.float64), targets3.astype(np.float64), train_size=0.8, test_size=0.2, shuffle=False)"
   ]
  },
  {
   "cell_type": "code",
   "execution_count": null,
   "metadata": {},
   "outputs": [],
   "source": [
    "tpotB = TPOTRegressor(generations=5, population_size=50, verbosity=2, scoring='neg_mean_absolute_error', random_state=42)\n",
    "tpotB.fit(X_train_notB, y_train)\n",
    "tpotB.export('tpot_seoul_PM10_AQI_withoutBeijing.py')\n",
    "print(\"neg MAE of TPOT Regressor : \",tpot.score(X_test_notB, y_test))"
   ]
  },
  {
   "cell_type": "code",
   "execution_count": null,
   "metadata": {},
   "outputs": [],
   "source": [
    "tpotB3 = TPOTRegressor(generations=5, population_size=50, verbosity=2, scoring='neg_mean_absolute_error', random_state=42)\n",
    "tpotB3.fit(X_train3, y_train3)\n",
    "tpotB3.export('tpot_seoul_PM10_AQI_3days_withoutBeijing.py')\n",
    "print(\"neg MAE of TPOT Regressor : \",tpot.score(X_test3_notB, y_test3))"
   ]
  }
 ],
 "metadata": {
  "kernelspec": {
   "display_name": "Python 3",
   "language": "python",
   "name": "python3"
  },
  "language_info": {
   "codemirror_mode": {
    "name": "ipython",
    "version": 3
   },
   "file_extension": ".py",
   "mimetype": "text/x-python",
   "name": "python",
   "nbconvert_exporter": "python",
   "pygments_lexer": "ipython3",
   "version": "3.8.5"
  }
 },
 "nbformat": 4,
 "nbformat_minor": 4
}
